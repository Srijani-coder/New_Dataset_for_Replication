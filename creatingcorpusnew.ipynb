{
  "nbformat": 4,
  "nbformat_minor": 0,
  "metadata": {
    "colab": {
      "provenance": []
    },
    "kernelspec": {
      "name": "python3",
      "display_name": "Python 3"
    },
    "language_info": {
      "name": "python"
    }
  },
  "cells": [
    {
      "cell_type": "code",
      "execution_count": 2,
      "metadata": {
        "colab": {
          "base_uri": "https://localhost:8080/"
        },
        "id": "5PTIjzOj_NTA",
        "outputId": "76c369d7-ec7b-449f-ae1d-bc5e34016efd"
      },
      "outputs": [
        {
          "output_type": "stream",
          "name": "stdout",
          "text": [
            "The length of the DataFrame is: 992\n"
          ]
        }
      ],
      "source": [
        "import pandas as pd\n",
        "\n",
        "# Step 1: Read the CSV file into a DataFrame\n",
        "csv_file = '/content/sample_data/Final_dataset_forReplication.csv'  # Replace with your CSV file path\n",
        "df = pd.read_csv(csv_file)\n",
        "\n",
        "# Step 2: Convert the DataFrame to TSV format and save it as a new file\n",
        "tsv_file = 'corpusnew.tsv'  # Replace with the desired TSV file path\n",
        "df.to_csv(tsv_file, sep='\\t', index=False)\n",
        "\n",
        "# Step 3: Get the length of the DataFrame\n",
        "length_of_df = len(df)\n",
        "print(f'The length of the DataFrame is: {length_of_df}')\n",
        "\n",
        "\n"
      ]
    },
    {
      "cell_type": "code",
      "source": [
        "# You might need to install the tabulate library first\n",
        "# !pip install tabulate\n",
        "\n",
        "from tabulate import tabulate\n",
        "\n",
        "# Print the DataFrame using tabulate\n",
        "print(tabulate(df.head(5), headers='keys', tablefmt='psql'))\n"
      ],
      "metadata": {
        "colab": {
          "base_uri": "https://localhost:8080/"
        },
        "id": "oecQ7on7_u4U",
        "outputId": "b2dcafaf-c475-4806-a1fb-a8944a425886"
      },
      "execution_count": 5,
      "outputs": [
        {
          "output_type": "stream",
          "name": "stdout",
          "text": [
            "+----+---------------------------+-------------+----------------+--------------------------+\n",
            "|    | url                       | bias        | fact           | Normalized_url           |\n",
            "|----+---------------------------+-------------+----------------+--------------------------|\n",
            "|  0 | https://www.bbc.com/      | LEFT-CENTER | HIGH           | https://www.bbc.com/     |\n",
            "|  1 | https://www.msn.com/en-au | LEFT-CENTER | HIGH           | https://www.msn.com/     |\n",
            "|  2 | https://www.cnn.com       | LEFT        | MOSTLY FACTUAL | https://www.cnn.com      |\n",
            "|  3 | https://edition.cnn.com/  | RIGHT       | MIXED          | https://edition.cnn.com/ |\n",
            "|  4 | https://www.nytimes.com/  | LEFT-CENTER | HIGH           | https://www.nytimes.com/ |\n",
            "+----+---------------------------+-------------+----------------+--------------------------+\n"
          ]
        }
      ]
    }
  ]
}